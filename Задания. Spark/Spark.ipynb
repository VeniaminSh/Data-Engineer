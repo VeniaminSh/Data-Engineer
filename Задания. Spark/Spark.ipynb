{
  "nbformat": 4,
  "nbformat_minor": 0,
  "metadata": {
    "colab": {
      "provenance": [],
      "collapsed_sections": [
        "aseZA3tWG7AS",
        "HZGK4T2Z9qAi",
        "GW4jcniqLmjs",
        "VoONM_lVaIs1",
        "5eXnbdBJaTv0",
        "C7_Ub6csGWLy",
        "8Ov24g2eMIa_",
        "eUdrQfVXfQdc"
      ]
    },
    "kernelspec": {
      "name": "python3",
      "display_name": "Python 3"
    },
    "language_info": {
      "name": "python"
    }
  },
  "cells": [
    {
      "cell_type": "markdown",
      "source": [
        "# Тестовые задачи по взаимодействию с SparkAPI"
      ],
      "metadata": {
        "id": "-ZqmwTR0TX7U"
      }
    },
    {
      "cell_type": "markdown",
      "source": [
        "Установка спарка на машину"
      ],
      "metadata": {
        "id": "E5uUUTF9GaPN"
      }
    },
    {
      "cell_type": "code",
      "execution_count": null,
      "metadata": {
        "colab": {
          "base_uri": "https://localhost:8080/"
        },
        "id": "LLGSHcgrtPSW",
        "outputId": "fd89e89d-31a9-4e56-b079-31904f2f1d94"
      },
      "outputs": [
        {
          "output_type": "stream",
          "name": "stdout",
          "text": [
            "Collecting pyspark\n",
            "  Downloading pyspark-3.5.2.tar.gz (317.3 MB)\n",
            "\u001b[2K     \u001b[90m━━━━━━━━━━━━━━━━━━━━━━━━━━━━━━━━━━━━━━━━\u001b[0m \u001b[32m317.3/317.3 MB\u001b[0m \u001b[31m3.1 MB/s\u001b[0m eta \u001b[36m0:00:00\u001b[0m\n",
            "\u001b[?25h  Preparing metadata (setup.py) ... \u001b[?25l\u001b[?25hdone\n",
            "Requirement already satisfied: py4j==0.10.9.7 in /usr/local/lib/python3.10/dist-packages (from pyspark) (0.10.9.7)\n",
            "Building wheels for collected packages: pyspark\n",
            "  Building wheel for pyspark (setup.py) ... \u001b[?25l\u001b[?25hdone\n",
            "  Created wheel for pyspark: filename=pyspark-3.5.2-py2.py3-none-any.whl size=317812365 sha256=0f00005e67c2d820a1fa81c48b4d2aacd36e49857276a2c85c0616ae34ed9657\n",
            "  Stored in directory: /root/.cache/pip/wheels/34/34/bd/03944534c44b677cd5859f248090daa9fb27b3c8f8e5f49574\n",
            "Successfully built pyspark\n",
            "Installing collected packages: pyspark\n",
            "Successfully installed pyspark-3.5.2\n"
          ]
        }
      ],
      "source": [
        "pip install pyspark"
      ]
    },
    {
      "cell_type": "markdown",
      "source": [
        "Обратимся к гиту, где лежат некоторые файлы для выполнения задач."
      ],
      "metadata": {
        "id": "Ww2KE71AmXh0"
      }
    },
    {
      "cell_type": "code",
      "source": [
        "!git clone https://github.com/databricks/LearningSparkV2.git"
      ],
      "metadata": {
        "colab": {
          "base_uri": "https://localhost:8080/"
        },
        "id": "XOnpATOXLhBW",
        "outputId": "a0cb8d87-4c0c-491f-cd2e-37a2e3a21741"
      },
      "execution_count": null,
      "outputs": [
        {
          "output_type": "stream",
          "name": "stdout",
          "text": [
            "Cloning into 'LearningSparkV2'...\n",
            "remote: Enumerating objects: 1720, done.\u001b[K\n",
            "remote: Counting objects: 100% (1720/1720), done.\u001b[K\n",
            "remote: Compressing objects: 100% (1036/1036), done.\u001b[K\n",
            "remote: Total 1720 (delta 546), reused 1691 (delta 541), pack-reused 0 (from 0)\u001b[K\n",
            "Receiving objects: 100% (1720/1720), 76.97 MiB | 8.78 MiB/s, done.\n",
            "Resolving deltas: 100% (546/546), done.\n",
            "Updating files: 100% (768/768), done.\n"
          ]
        }
      ]
    },
    {
      "cell_type": "markdown",
      "source": [
        "# Задачи"
      ],
      "metadata": {
        "id": "t4X4L5UM3HgN"
      }
    },
    {
      "cell_type": "markdown",
      "source": [
        "## 1. Возможности спарка"
      ],
      "metadata": {
        "id": "aseZA3tWG7AS"
      }
    },
    {
      "cell_type": "code",
      "source": [
        "#Собираем библиотеки\n",
        "import requests\n",
        "from pyspark.sql import SparkSession\n",
        "import pyspark.sql.functions as F\n",
        "from pyspark.sql.types import StringType, DateType, FloatType, IntegerType\n",
        "from google.colab import files\n",
        "import pandas as pd\n",
        "from google.colab import files\n",
        "\n",
        "#ссылка на загрузку CSV файла\n",
        "url = f'https://drive.google.com/uc?id=1ZuLZDoPboHnM1P8m3PflIe70zUGvjsRq'\n",
        "#Загружаем файл\n",
        "response = requests.get(url)\n",
        "#Проверяем статус ответа, если ок, то открываем файл car в памяти\n",
        "if response.status_code == 200:\n",
        "    with open('car.csv', 'wb') as f:\n",
        "        f.write(response.content)\n",
        "    print(\"Файл загружен\")\n",
        "else:\n",
        "    print(f\"Файл не загрузился {response.status_code}\")"
      ],
      "metadata": {
        "colab": {
          "base_uri": "https://localhost:8080/"
        },
        "id": "nn_6t5Lttmcj",
        "outputId": "01f983db-8e51-48c3-a54e-2acfe6136551"
      },
      "execution_count": null,
      "outputs": [
        {
          "output_type": "stream",
          "name": "stdout",
          "text": [
            "Файл загружен\n"
          ]
        }
      ]
    },
    {
      "cell_type": "code",
      "source": [
        "#Делаем функцию, которая принимает загружаемый файл и открывает его как объект спарка\n",
        "\n",
        "#вытаскиваем имя выгружаемого файла\n",
        "file_name = str(f).split(\"name='\")[1].split(\"'\")[0]\n",
        "\n",
        "def create_spark_object(file_name):\n",
        "    if str(f).lower().find(file_name) > 1:\n",
        "        spark = SparkSession.builder.appName('Test').getOrCreate()\n",
        "        dt = spark.read.format(\"csv\").option(\"header\", \"true\").load(file_name)\n",
        "        return dt\n",
        "df = create_spark_object(file_name)\n",
        "\n",
        "df.show(1, vertical = True)"
      ],
      "metadata": {
        "colab": {
          "base_uri": "https://localhost:8080/"
        },
        "id": "ytbxMlmKriHS",
        "outputId": "0691a876-e132-4350-f795-be363898e339"
      },
      "execution_count": null,
      "outputs": [
        {
          "output_type": "stream",
          "name": "stdout",
          "text": [
            "-RECORD 0-------------------------\n",
            " manufacturer_name | Subaru       \n",
            " model_name        | Outback      \n",
            " transmission      | automatic    \n",
            " color             | silver       \n",
            " odometer_value    | 190000       \n",
            " year_produced     | 2010         \n",
            " engine_fuel       | gasoline     \n",
            " engine_has_gas    | False        \n",
            " engine_type       | gasoline     \n",
            " engine_capacity   | 2.5          \n",
            " body_type         | universal    \n",
            " has_warranty      | False        \n",
            " state             | owned        \n",
            " drivetrain        | all          \n",
            " price_usd         | 10900.0      \n",
            " is_exchangeable   | False        \n",
            " location_region   | Минская обл. \n",
            " number_of_photos  | 9            \n",
            " up_counter        | 13           \n",
            " feature_0         | False        \n",
            " feature_1         | True         \n",
            " feature_2         | True         \n",
            " feature_3         | True         \n",
            " feature_4         | False        \n",
            " feature_5         | True         \n",
            " feature_6         | False        \n",
            " feature_7         | True         \n",
            " feature_8         | True         \n",
            " feature_9         | True         \n",
            " duration_listed   | 16           \n",
            "only showing top 1 row\n",
            "\n"
          ]
        }
      ]
    },
    {
      "cell_type": "code",
      "source": [
        "#Select\n",
        "df.select(\"manufacturer_name\",\"model_name\").show(1)\n",
        "df.select(df[\"manufacturer_name\"],df[\"model_name\"]).show(1)\n",
        "df.select(F.col(\"manufacturer_name\"), F.col(\"model_name\")).show(3)"
      ],
      "metadata": {
        "colab": {
          "base_uri": "https://localhost:8080/"
        },
        "id": "av9Za4gMmE5v",
        "outputId": "192f78e2-d6dd-47d0-8352-c4dc9efb5dd4"
      },
      "execution_count": null,
      "outputs": [
        {
          "output_type": "stream",
          "name": "stdout",
          "text": [
            "+-----------------+----------+\n",
            "|manufacturer_name|model_name|\n",
            "+-----------------+----------+\n",
            "|           Subaru|   Outback|\n",
            "+-----------------+----------+\n",
            "only showing top 1 row\n",
            "\n",
            "+-----------------+----------+\n",
            "|manufacturer_name|model_name|\n",
            "+-----------------+----------+\n",
            "|           Subaru|   Outback|\n",
            "+-----------------+----------+\n",
            "only showing top 1 row\n",
            "\n",
            "+-----------------+----------+\n",
            "|manufacturer_name|model_name|\n",
            "+-----------------+----------+\n",
            "|           Subaru|   Outback|\n",
            "|           Subaru|   Outback|\n",
            "|           Subaru|  Forester|\n",
            "+-----------------+----------+\n",
            "only showing top 3 rows\n",
            "\n"
          ]
        }
      ]
    },
    {
      "cell_type": "code",
      "source": [
        "#filter\n",
        "NAME = 'Audi'\n",
        "\n",
        "df\\\n",
        "   .select(\"manufacturer_name\",\"model_name\",\"transmission\", \"color\")\\\n",
        "   .filter(F.col(\"manufacturer_name\") == NAME)\\\n",
        "   .filter(\"transmission = 'automatic' and color = 'black'\").show(2)"
      ],
      "metadata": {
        "colab": {
          "base_uri": "https://localhost:8080/"
        },
        "id": "PkwbbpypnN-f",
        "outputId": "094ac867-0e35-4f0a-b1f7-20cd3ec3967c"
      },
      "execution_count": null,
      "outputs": [
        {
          "output_type": "stream",
          "name": "stdout",
          "text": [
            "+-----------------+----------+------------+-----+\n",
            "|manufacturer_name|model_name|transmission|color|\n",
            "+-----------------+----------+------------+-----+\n",
            "|             Audi|        TT|   automatic|black|\n",
            "|             Audi|        A6|   automatic|black|\n",
            "+-----------------+----------+------------+-----+\n",
            "only showing top 2 rows\n",
            "\n"
          ]
        }
      ]
    },
    {
      "cell_type": "code",
      "source": [
        "#distinct_count\n",
        "df.select(\"manufacturer_name\").distinct().count()"
      ],
      "metadata": {
        "colab": {
          "base_uri": "https://localhost:8080/"
        },
        "id": "ivbmHGBso7CO",
        "outputId": "6fd8d9d2-a627-42fe-b61d-fabbab86954c"
      },
      "execution_count": null,
      "outputs": [
        {
          "output_type": "execute_result",
          "data": {
            "text/plain": [
              "55"
            ]
          },
          "metadata": {},
          "execution_count": 12
        }
      ]
    },
    {
      "cell_type": "code",
      "source": [
        "#count\n",
        "df.count()"
      ],
      "metadata": {
        "colab": {
          "base_uri": "https://localhost:8080/"
        },
        "id": "uP6fU0JvDtOs",
        "outputId": "ea5e7480-5653-4bc4-da71-bdb91104ec74"
      },
      "execution_count": null,
      "outputs": [
        {
          "output_type": "execute_result",
          "data": {
            "text/plain": [
              "38531"
            ]
          },
          "metadata": {},
          "execution_count": 13
        }
      ]
    },
    {
      "cell_type": "code",
      "source": [
        "#GROUPBY() and ORDERBY()\n",
        "df.groupBy(\"manufacturer_name\").count().orderBy(F.col(\"count\").desc()).show(5)"
      ],
      "metadata": {
        "colab": {
          "base_uri": "https://localhost:8080/"
        },
        "id": "MA13R6gdDxIU",
        "outputId": "25790757-5e79-4103-c4c0-eb052e08a55d"
      },
      "execution_count": null,
      "outputs": [
        {
          "output_type": "stream",
          "name": "stdout",
          "text": [
            "+-----------------+-----+\n",
            "|manufacturer_name|count|\n",
            "+-----------------+-----+\n",
            "|       Volkswagen| 4243|\n",
            "|             Opel| 2759|\n",
            "|              BMW| 2610|\n",
            "|             Ford| 2566|\n",
            "|          Renault| 2493|\n",
            "+-----------------+-----+\n",
            "only showing top 5 rows\n",
            "\n"
          ]
        }
      ]
    },
    {
      "cell_type": "code",
      "source": [
        "# Переименовываем колонку\n",
        "df = df.withColumnRenamed(\"manufacturer_name\", \"manufacturer\")"
      ],
      "metadata": {
        "id": "2WSjQvQGFwWn"
      },
      "execution_count": null,
      "outputs": []
    },
    {
      "cell_type": "code",
      "source": [
        "#Создаем новую колонку\n",
        "df = df.withColumn(\"next_year\", F.col(\"year_produced\") - 1)"
      ],
      "metadata": {
        "id": "UDFHnn7ucqrk"
      },
      "execution_count": null,
      "outputs": []
    },
    {
      "cell_type": "code",
      "source": [
        "#Посмотрим типы колонок\n",
        "df.printSchema()"
      ],
      "metadata": {
        "colab": {
          "base_uri": "https://localhost:8080/"
        },
        "id": "D3O3s4n7dUIG",
        "outputId": "711a80f2-17dc-46d6-cd6d-43e0d7b828f5"
      },
      "execution_count": null,
      "outputs": [
        {
          "output_type": "stream",
          "name": "stdout",
          "text": [
            "root\n",
            " |-- manufacturer: string (nullable = true)\n",
            " |-- model_name: string (nullable = true)\n",
            " |-- transmission: string (nullable = true)\n",
            " |-- color: string (nullable = true)\n",
            " |-- odometer_value: string (nullable = true)\n",
            " |-- year_produced: string (nullable = true)\n",
            " |-- engine_fuel: string (nullable = true)\n",
            " |-- engine_has_gas: string (nullable = true)\n",
            " |-- engine_type: string (nullable = true)\n",
            " |-- engine_capacity: string (nullable = true)\n",
            " |-- body_type: string (nullable = true)\n",
            " |-- has_warranty: string (nullable = true)\n",
            " |-- state: string (nullable = true)\n",
            " |-- drivetrain: string (nullable = true)\n",
            " |-- price_usd: string (nullable = true)\n",
            " |-- is_exchangeable: string (nullable = true)\n",
            " |-- location_region: string (nullable = true)\n",
            " |-- number_of_photos: string (nullable = true)\n",
            " |-- up_counter: string (nullable = true)\n",
            " |-- feature_0: string (nullable = true)\n",
            " |-- feature_1: string (nullable = true)\n",
            " |-- feature_2: string (nullable = true)\n",
            " |-- feature_3: string (nullable = true)\n",
            " |-- feature_4: string (nullable = true)\n",
            " |-- feature_5: string (nullable = true)\n",
            " |-- feature_6: string (nullable = true)\n",
            " |-- feature_7: string (nullable = true)\n",
            " |-- feature_8: string (nullable = true)\n",
            " |-- feature_9: string (nullable = true)\n",
            " |-- duration_listed: string (nullable = true)\n",
            " |-- next_year: double (nullable = true)\n",
            "\n"
          ]
        }
      ]
    },
    {
      "cell_type": "code",
      "source": [
        "#посмотрим метрики по чиловым столбцам\n",
        "df.select('odometer_value', 'year_produced', 'engine_capacity', 'price_usd', 'number_of_photos', 'up_counter', 'duration_listed').describe().show()"
      ],
      "metadata": {
        "colab": {
          "base_uri": "https://localhost:8080/"
        },
        "id": "txlEsW8XDdBP",
        "outputId": "e59fd049-6da8-43f4-f312-6d6bd8b1edc5"
      },
      "execution_count": null,
      "outputs": [
        {
          "output_type": "stream",
          "name": "stdout",
          "text": [
            "+-------+------------------+------------------+-----------------+-----------------+-----------------+------------------+------------------+\n",
            "|summary|    odometer_value|     year_produced|  engine_capacity|        price_usd| number_of_photos|        up_counter|   duration_listed|\n",
            "+-------+------------------+------------------+-----------------+-----------------+-----------------+------------------+------------------+\n",
            "|  count|             38531|             38531|            38521|            38531|            38531|             38531|             38531|\n",
            "|   mean| 248864.6384469648|2002.9437336170874|2.055161106928777|6639.971021255605|9.649061794399314|16.306091199294073|  80.5772494874257|\n",
            "| stddev|136072.37652978086| 8.065730511309935|0.671177667208744|6428.152018202911|6.093216996872852| 43.28693309422311|112.82656864261321|\n",
            "|    min|                 0|              1942|              0.2|              1.0|                1|                 1|                 0|\n",
            "|    max|            999999|              2019|              8.0|           9999.0|                9|                99|               995|\n",
            "+-------+------------------+------------------+-----------------+-----------------+-----------------+------------------+------------------+\n",
            "\n"
          ]
        }
      ]
    },
    {
      "cell_type": "code",
      "source": [
        "#изменим тыпы колонок\n",
        "df.withColumn(\"odometer_value\", df[\"odometer_value\"].cast(IntegerType()))\\\n",
        "  .withColumn(\"year_produced\", df[\"year_produced\"].cast(IntegerType()))\\\n",
        "  .withColumn(\"engine_capacity\", df[\"engine_capacity\"].cast(FloatType()))\\\n",
        "  .withColumn(\"price_usd\", df[\"price_usd\"].cast(FloatType()))\\\n",
        "  .withColumn(\"number_of_photos\", df[\"number_of_photos\"].cast(IntegerType()))\\\n",
        "  .withColumn(\"up_counter\", df[\"up_counter\"].cast(IntegerType()))\\\n",
        "  .withColumn(\"duration_listed\", df[\"duration_listed\"].cast(IntegerType()))\\\n",
        "  .withColumn(\"next_year\", df[\"next_year\"].cast(IntegerType()))\\\n",
        "  .printSchema()"
      ],
      "metadata": {
        "colab": {
          "base_uri": "https://localhost:8080/"
        },
        "id": "dT1AkroKDst8",
        "outputId": "8b04a016-2c6a-4a1e-9295-0e7dfea6f72e"
      },
      "execution_count": null,
      "outputs": [
        {
          "output_type": "stream",
          "name": "stdout",
          "text": [
            "root\n",
            " |-- manufacturer: string (nullable = true)\n",
            " |-- model_name: string (nullable = true)\n",
            " |-- transmission: string (nullable = true)\n",
            " |-- color: string (nullable = true)\n",
            " |-- odometer_value: integer (nullable = true)\n",
            " |-- year_produced: integer (nullable = true)\n",
            " |-- engine_fuel: string (nullable = true)\n",
            " |-- engine_has_gas: string (nullable = true)\n",
            " |-- engine_type: string (nullable = true)\n",
            " |-- engine_capacity: float (nullable = true)\n",
            " |-- body_type: string (nullable = true)\n",
            " |-- has_warranty: string (nullable = true)\n",
            " |-- state: string (nullable = true)\n",
            " |-- drivetrain: string (nullable = true)\n",
            " |-- price_usd: float (nullable = true)\n",
            " |-- is_exchangeable: string (nullable = true)\n",
            " |-- location_region: string (nullable = true)\n",
            " |-- number_of_photos: integer (nullable = true)\n",
            " |-- up_counter: integer (nullable = true)\n",
            " |-- feature_0: string (nullable = true)\n",
            " |-- feature_1: string (nullable = true)\n",
            " |-- feature_2: string (nullable = true)\n",
            " |-- feature_3: string (nullable = true)\n",
            " |-- feature_4: string (nullable = true)\n",
            " |-- feature_5: string (nullable = true)\n",
            " |-- feature_6: string (nullable = true)\n",
            " |-- feature_7: string (nullable = true)\n",
            " |-- feature_8: string (nullable = true)\n",
            " |-- feature_9: string (nullable = true)\n",
            " |-- duration_listed: integer (nullable = true)\n",
            " |-- next_year: integer (nullable = true)\n",
            "\n"
          ]
        }
      ]
    },
    {
      "cell_type": "markdown",
      "source": [
        "## 2. Перейдем к написанию небольшого пайплана\n",
        "\n",
        "Задача: Необходимо сделать пайплайн обработки файла cars.csv . Посчитать по каждому производителю (поле manufacturer_name):\n",
        "\n",
        "*   Количество объявлений\n",
        "*   Средний год выпуска автомобилей\n",
        "*   Минимальную цену\n",
        "*   Максимальную цену\n",
        "\n",
        "Выгрузить результат в output.csv\n"
      ],
      "metadata": {
        "id": "HZGK4T2Z9qAi"
      }
    },
    {
      "cell_type": "code",
      "source": [
        "#Напишем фнкцию, которая производит обработку и выгружает данные\n",
        "def create_output():\n",
        "    output = (\n",
        "        df\n",
        "        .groupBy('manufacturer')\n",
        "        .agg(\n",
        "            F.count('manufacturer').alias('Count'),\n",
        "            F.round(F.avg('year_produced')).cast(IntegerType()).alias('Avarage'),\n",
        "            F.min(F.col('price_usd').cast(FloatType())).alias('Min_price'),\n",
        "            F.max(F.col('price_usd').cast(FloatType())).alias('Max_price')\n",
        "            )\n",
        "        )\n",
        "    output.show(5)\n",
        "    dt = pd.DataFrame(output.take(5), columns=output.columns)\n",
        "    dt.to_csv('filename.csv', index=False)\n",
        "    files.download('filename.csv')\n",
        "    return dt\n",
        "\n",
        "create_output()"
      ],
      "metadata": {
        "colab": {
          "base_uri": "https://localhost:8080/",
          "height": 314
        },
        "id": "7fxtVqBStqOp",
        "outputId": "3aa1a87b-a3d5-4f49-c367-4361426dc308"
      },
      "execution_count": null,
      "outputs": [
        {
          "output_type": "error",
          "ename": "NameError",
          "evalue": "name 'df' is not defined",
          "traceback": [
            "\u001b[0;31m---------------------------------------------------------------------------\u001b[0m",
            "\u001b[0;31mNameError\u001b[0m                                 Traceback (most recent call last)",
            "\u001b[0;32m<ipython-input-36-74db96dc997a>\u001b[0m in \u001b[0;36m<cell line: 19>\u001b[0;34m()\u001b[0m\n\u001b[1;32m     17\u001b[0m     \u001b[0;32mreturn\u001b[0m \u001b[0mdt\u001b[0m\u001b[0;34m\u001b[0m\u001b[0;34m\u001b[0m\u001b[0m\n\u001b[1;32m     18\u001b[0m \u001b[0;34m\u001b[0m\u001b[0m\n\u001b[0;32m---> 19\u001b[0;31m \u001b[0mcreate_output\u001b[0m\u001b[0;34m(\u001b[0m\u001b[0;34m)\u001b[0m\u001b[0;34m\u001b[0m\u001b[0;34m\u001b[0m\u001b[0m\n\u001b[0m",
            "\u001b[0;32m<ipython-input-36-74db96dc997a>\u001b[0m in \u001b[0;36mcreate_output\u001b[0;34m()\u001b[0m\n\u001b[1;32m      2\u001b[0m \u001b[0;32mdef\u001b[0m \u001b[0mcreate_output\u001b[0m\u001b[0;34m(\u001b[0m\u001b[0;34m)\u001b[0m\u001b[0;34m:\u001b[0m\u001b[0;34m\u001b[0m\u001b[0;34m\u001b[0m\u001b[0m\n\u001b[1;32m      3\u001b[0m     output = (\n\u001b[0;32m----> 4\u001b[0;31m         \u001b[0mdf\u001b[0m\u001b[0;34m\u001b[0m\u001b[0;34m\u001b[0m\u001b[0m\n\u001b[0m\u001b[1;32m      5\u001b[0m         \u001b[0;34m.\u001b[0m\u001b[0mgroupBy\u001b[0m\u001b[0;34m(\u001b[0m\u001b[0;34m'manufacturer'\u001b[0m\u001b[0;34m)\u001b[0m\u001b[0;34m\u001b[0m\u001b[0;34m\u001b[0m\u001b[0m\n\u001b[1;32m      6\u001b[0m         .agg(\n",
            "\u001b[0;31mNameError\u001b[0m: name 'df' is not defined"
          ]
        }
      ]
    },
    {
      "cell_type": "code",
      "source": [
        "#Остонавливаем сессию спарк\n",
        "spark.stop()"
      ],
      "metadata": {
        "id": "rDoHT5sU8UfH",
        "colab": {
          "base_uri": "https://localhost:8080/",
          "height": 166
        },
        "outputId": "5df1f40a-c1db-4654-a413-e5e5cf9ddac8"
      },
      "execution_count": null,
      "outputs": [
        {
          "output_type": "error",
          "ename": "NameError",
          "evalue": "name 'spark' is not defined",
          "traceback": [
            "\u001b[0;31m---------------------------------------------------------------------------\u001b[0m",
            "\u001b[0;31mNameError\u001b[0m                                 Traceback (most recent call last)",
            "\u001b[0;32m<ipython-input-21-d60a4fd9ddf9>\u001b[0m in \u001b[0;36m<cell line: 2>\u001b[0;34m()\u001b[0m\n\u001b[1;32m      1\u001b[0m \u001b[0;31m#Остонавливаем сессию спарк\u001b[0m\u001b[0;34m\u001b[0m\u001b[0;34m\u001b[0m\u001b[0m\n\u001b[0;32m----> 2\u001b[0;31m \u001b[0mspark\u001b[0m\u001b[0;34m.\u001b[0m\u001b[0mstop\u001b[0m\u001b[0;34m(\u001b[0m\u001b[0;34m)\u001b[0m\u001b[0;34m\u001b[0m\u001b[0;34m\u001b[0m\u001b[0m\n\u001b[0m",
            "\u001b[0;31mNameError\u001b[0m: name 'spark' is not defined"
          ]
        }
      ]
    },
    {
      "cell_type": "markdown",
      "source": [
        "### 1. Поиск M&Ms\n",
        "\n",
        "Дан сsv файл, который подтягивается из гугл диска.\n",
        "Задача посчитать количество M&Ms по цветовой гамме в пачках в разных штатах."
      ],
      "metadata": {
        "id": "vr-e9pQcLXpN"
      }
    },
    {
      "cell_type": "code",
      "source": [
        "#Библиотеки\n",
        "from pyspark.sql import SparkSession\n",
        "from pyspark.sql.functions import count\n",
        "import requests\n",
        "\n",
        "#ссылка на загрузку CSV файла c гугл Диска\n",
        "url = f'https://drive.google.com/uc?id=1oZTMFL05rLTN-oqBXl4W-rWS-9bpcphg'\n",
        "\n",
        "#Загружаем файл\n",
        "response = requests.get(url)\n",
        "#Проверяем статус ответа, если ок, то открываем файл в памяти\n",
        "if response.status_code == 200:\n",
        "    with open('mnm.csv', 'wb') as f:\n",
        "        f.write(response.content)\n",
        "    print(\"Файл загружен\")\n",
        "else:\n",
        "    print(f\"Файл не загрузился {response.status_code}\")"
      ],
      "metadata": {
        "colab": {
          "base_uri": "https://localhost:8080/"
        },
        "id": "PuKwqY1D0Rm3",
        "outputId": "23561525-71ef-4911-c264-69b38b9c0a1d"
      },
      "execution_count": null,
      "outputs": [
        {
          "output_type": "stream",
          "name": "stdout",
          "text": [
            "Файл загружен\n"
          ]
        }
      ]
    },
    {
      "cell_type": "code",
      "source": [
        "#выводим название файла\n",
        "file_name = str(f).split(\"name='\")[1].split(\"'\")[0]\n",
        "#вызываем функцию, которая генерит объект объект Spark\n",
        "df = create_spark_object(file_name)\n",
        "\n",
        "#посмотрим кол-во конфет в разрезе штатов и цветовой гаммы\n",
        "count_mnm_state_color = (df.select('State', 'Color', 'Count')\n",
        "                           .groupBy('State', 'Color')\n",
        "                           .agg(count(\"Count\").alias(\"Total\"))\n",
        "                           .orderBy(\"Total\", ascending=False).show())\n",
        "\n",
        "#проверим конфеты по Калифорнии\n",
        "count_mnm_NY = (df.select('State','Color','Count')\n",
        "                  .where(df.State == 'CA')\n",
        "                  .groupBy('State', 'Color')\n",
        "                  .agg(count(\"Count\").alias('Total'))\n",
        "                  .orderBy(\"Total\", ascending=False)\n",
        "                  .show())\n",
        "count_mnm_NY"
      ],
      "metadata": {
        "colab": {
          "base_uri": "https://localhost:8080/"
        },
        "id": "WTvIpeq40Q6g",
        "outputId": "2d8534b3-70be-4ac6-c781-16552d580ccc"
      },
      "execution_count": null,
      "outputs": [
        {
          "output_type": "stream",
          "name": "stdout",
          "text": [
            "+-----+------+-----+\n",
            "|State| Color|Total|\n",
            "+-----+------+-----+\n",
            "|   CA|Yellow| 1807|\n",
            "|   WA| Green| 1779|\n",
            "|   OR|Orange| 1743|\n",
            "|   TX| Green| 1737|\n",
            "|   TX|   Red| 1725|\n",
            "|   CA| Green| 1723|\n",
            "|   CO|Yellow| 1721|\n",
            "|   CA| Brown| 1718|\n",
            "|   CO| Green| 1713|\n",
            "|   NV|Orange| 1712|\n",
            "|   TX|Yellow| 1703|\n",
            "|   NV| Green| 1698|\n",
            "|   AZ| Brown| 1698|\n",
            "|   CO|  Blue| 1695|\n",
            "|   WY| Green| 1695|\n",
            "|   NM|   Red| 1690|\n",
            "|   AZ|Orange| 1689|\n",
            "|   NM|Yellow| 1688|\n",
            "|   NM| Brown| 1687|\n",
            "|   UT|Orange| 1684|\n",
            "+-----+------+-----+\n",
            "only showing top 20 rows\n",
            "\n",
            "+-----+------+-----+\n",
            "|State| Color|Total|\n",
            "+-----+------+-----+\n",
            "|   CA|Yellow| 1807|\n",
            "|   CA| Green| 1723|\n",
            "|   CA| Brown| 1718|\n",
            "|   CA|Orange| 1657|\n",
            "|   CA|   Red| 1656|\n",
            "|   CA|  Blue| 1603|\n",
            "+-----+------+-----+\n",
            "\n"
          ]
        }
      ]
    },
    {
      "cell_type": "markdown",
      "source": [
        "## 3. Поиск слова Spark в тексте.\n",
        "\n",
        "Дан .md файл с текстом. Задача, выгрузить строки, где есть слово Spark из файла md формата."
      ],
      "metadata": {
        "id": "GW4jcniqLmjs"
      }
    },
    {
      "cell_type": "code",
      "source": [
        "#Выгрузка библиотек\n",
        "from pyspark.sql import SparkSession\n",
        "from google.colab import drive\n",
        "from google.colab import files\n",
        "\n",
        "#обращаемся к гугл диску\n",
        "drive.mount('/content/drive', force_remount=True)\n",
        "\n",
        "#создаем спарк приложение и читаем файл\n",
        "spark = SparkSession.builder.config('spark.ui.port', '4050').appName('Test').getOrCreate()\n",
        "file_path = '/content/drive/My Drive/README.md'\n",
        "strings = spark.read.text(file_path)\n",
        "\n",
        "#выводим строки с неоьходимым нам словом\n",
        "filtered = strings.filter(strings.value.contains(\"Spark\"))\n",
        "filtered.show(100)"
      ],
      "metadata": {
        "colab": {
          "base_uri": "https://localhost:8080/"
        },
        "id": "XYl1I6P44mmp",
        "outputId": "aec6c0d6-92ec-4ed0-8be5-ab17113d723f"
      },
      "execution_count": null,
      "outputs": [
        {
          "output_type": "stream",
          "name": "stdout",
          "text": [
            "Mounted at /content/drive\n",
            "+--------------------+\n",
            "|               value|\n",
            "+--------------------+\n",
            "|      # Apache Spark|\n",
            "|Spark is a unifie...|\n",
            "|rich set of highe...|\n",
            "|pandas API on Spa...|\n",
            "|[![PySpark Covera...|\n",
            "|You can find the ...|\n",
            "|   ## Building Spark|\n",
            "|Spark is built us...|\n",
            "|To build Spark an...|\n",
            "|[\"Building Spark\"...|\n",
            "|For general devel...|\n",
            "|The easiest way t...|\n",
            "|Spark also comes ...|\n",
            "|./bin/run-example...|\n",
            "|MASTER=spark://ho...|\n",
            "|Testing first req...|\n",
            "|Spark uses the Ha...|\n",
            "|Hadoop, you must ...|\n",
            "|in the online doc...|\n",
            "|Please review the...|\n",
            "+--------------------+\n",
            "\n"
          ]
        }
      ]
    },
    {
      "cell_type": "code",
      "source": [
        "#Останавливаем сессию\n",
        "spark.stop()"
      ],
      "metadata": {
        "id": "t4lZtYDvMTRD"
      },
      "execution_count": null,
      "outputs": []
    },
    {
      "cell_type": "markdown",
      "source": [
        "## 4. Создаем схему\n",
        "\n",
        "\n"
      ],
      "metadata": {
        "id": "mzvWUt6_5r4G"
      }
    },
    {
      "cell_type": "markdown",
      "source": [
        "### 1. Задание\n",
        "Необходимо сгенерить данные и создать под них схему."
      ],
      "metadata": {
        "id": "VoONM_lVaIs1"
      }
    },
    {
      "cell_type": "code",
      "source": [
        "# Выгружаем библиотеку\n",
        "from pyspark.sql import SparkSession\n",
        "import pyspark.sql.functions as F\n",
        "# Прописываем схему DDL\n",
        "schema = \"`Id` INT, `First` STRING, `Last` STRING, `Url` STRING, `Published` STRING, `Hits` INT, `Campaigns` ARRAY<STRING>\"\n",
        "# Данные для датафрейма\n",
        "data = [[1, \"Jules\", \"Damji\", \"https://tinyurl.1\", \"1/4/2016\", 4535, [\"twitter\", \"LinkedIn\"]],\n",
        " [2, \"Brooke\",\"Wenig\", \"https://tinyurl.2\", \"5/5/2018\", 8908, [\"twitter\",\n",
        "\"LinkedIn\"]],\n",
        " [3, \"Denny\", \"Lee\", \"https://tinyurl.3\", \"6/7/2019\", 7659, [\"web\",\n",
        "\"twitter\", \"FB\", \"LinkedIn\"]],\n",
        " [4, \"Tathagata\", \"Das\", \"https://tinyurl.4\", \"5/12/2018\", 10568,\n",
        "[\"twitter\", \"FB\"]],\n",
        " [5, \"Matei\",\"Zaharia\", \"https://tinyurl.5\", \"5/14/2014\", 40578, [\"web\",\n",
        "\"twitter\", \"FB\", \"LinkedIn\"]],\n",
        " [6, \"Reynold\", \"Xin\", \"https://tinyurl.6\", \"3/2/2015\", 25568,\n",
        "[\"twitter\", \"LinkedIn\"]]\n",
        " ]\n",
        "spark = (SparkSession\n",
        " .builder\n",
        " .appName(\"Example-3_6\")\n",
        " .getOrCreate())\n",
        "\n",
        "# Создаем датафрейм используя данные и схему\n",
        "blogs_df = spark.createDataFrame(data, schema)\n",
        "\n",
        "#Выводим данные и структуру схемы\n",
        "blogs_df.show()\n",
        "print(blogs_df.schema)\n",
        "print(' ')\n",
        "blogs_df.printSchema()"
      ],
      "metadata": {
        "colab": {
          "base_uri": "https://localhost:8080/"
        },
        "id": "8ZF4tcaC5wbb",
        "outputId": "49a925fe-1209-496c-803f-97e085e1c5a4"
      },
      "execution_count": null,
      "outputs": [
        {
          "output_type": "stream",
          "name": "stdout",
          "text": [
            "+---+---------+-------+-----------------+---------+-----+--------------------+\n",
            "| Id|    First|   Last|              Url|Published| Hits|           Campaigns|\n",
            "+---+---------+-------+-----------------+---------+-----+--------------------+\n",
            "|  1|    Jules|  Damji|https://tinyurl.1| 1/4/2016| 4535| [twitter, LinkedIn]|\n",
            "|  2|   Brooke|  Wenig|https://tinyurl.2| 5/5/2018| 8908| [twitter, LinkedIn]|\n",
            "|  3|    Denny|    Lee|https://tinyurl.3| 6/7/2019| 7659|[web, twitter, FB...|\n",
            "|  4|Tathagata|    Das|https://tinyurl.4|5/12/2018|10568|       [twitter, FB]|\n",
            "|  5|    Matei|Zaharia|https://tinyurl.5|5/14/2014|40578|[web, twitter, FB...|\n",
            "|  6|  Reynold|    Xin|https://tinyurl.6| 3/2/2015|25568| [twitter, LinkedIn]|\n",
            "+---+---------+-------+-----------------+---------+-----+--------------------+\n",
            "\n",
            "StructType([StructField('Id', IntegerType(), True), StructField('First', StringType(), True), StructField('Last', StringType(), True), StructField('Url', StringType(), True), StructField('Published', StringType(), True), StructField('Hits', IntegerType(), True), StructField('Campaigns', ArrayType(StringType(), True), True)])\n",
            " \n",
            "root\n",
            " |-- Id: integer (nullable = true)\n",
            " |-- First: string (nullable = true)\n",
            " |-- Last: string (nullable = true)\n",
            " |-- Url: string (nullable = true)\n",
            " |-- Published: string (nullable = true)\n",
            " |-- Hits: integer (nullable = true)\n",
            " |-- Campaigns: array (nullable = true)\n",
            " |    |-- element: string (containsNull = true)\n",
            "\n"
          ]
        }
      ]
    },
    {
      "cell_type": "code",
      "source": [
        "blogs_df\\\n",
        "       .withColumn('Big_Hints', F.col('Hits') > 5000)\\\n",
        "       .withColumn('Auth_data', (F.concat(F.col('First'), F.col('Last'), F.col('Id'))))\\\n",
        "       .sort(F.col('Hits').desc())\\\n",
        "       .show()"
      ],
      "metadata": {
        "colab": {
          "base_uri": "https://localhost:8080/"
        },
        "id": "yvE-OwKC55S6",
        "outputId": "9e1e427f-1503-4db7-97b2-2bd832883895"
      },
      "execution_count": null,
      "outputs": [
        {
          "output_type": "stream",
          "name": "stdout",
          "text": [
            "+---+---------+-------+-----------------+---------+-----+--------------------+---------+-------------+\n",
            "| Id|    First|   Last|              Url|Published| Hits|           Campaigns|Big_Hints|    Auth_data|\n",
            "+---+---------+-------+-----------------+---------+-----+--------------------+---------+-------------+\n",
            "|  5|    Matei|Zaharia|https://tinyurl.5|5/14/2014|40578|[web, twitter, FB...|     true|MateiZaharia5|\n",
            "|  6|  Reynold|    Xin|https://tinyurl.6| 3/2/2015|25568| [twitter, LinkedIn]|     true|  ReynoldXin6|\n",
            "|  4|Tathagata|    Das|https://tinyurl.4|5/12/2018|10568|       [twitter, FB]|     true|TathagataDas4|\n",
            "|  2|   Brooke|  Wenig|https://tinyurl.2| 5/5/2018| 8908| [twitter, LinkedIn]|     true| BrookeWenig2|\n",
            "|  3|    Denny|    Lee|https://tinyurl.3| 6/7/2019| 7659|[web, twitter, FB...|     true|    DennyLee3|\n",
            "|  1|    Jules|  Damji|https://tinyurl.1| 1/4/2016| 4535| [twitter, LinkedIn]|    false|  JulesDamji1|\n",
            "+---+---------+-------+-----------------+---------+-----+--------------------+---------+-------------+\n",
            "\n"
          ]
        }
      ]
    },
    {
      "cell_type": "markdown",
      "source": [
        "### 2. Задание\n",
        "Необходимо создать схему и положить в нее данные из GitHub. <a name=\"4.2\">"
      ],
      "metadata": {
        "id": "5eXnbdBJaTv0"
      }
    },
    {
      "cell_type": "code",
      "source": [
        "from pyspark.sql.types import *\n",
        "import pyspark.sql.functions as F\n",
        "from pyspark.sql import SparkSession\n",
        "\n",
        "#Моделим схему\n",
        "file_schema = StructType([StructField('CallNumber', IntegerType(), True),\n",
        "                          StructField('UnitID', StringType(), True),\n",
        "                          StructField('InciedentNumber', IntegerType(),True),\n",
        "                          StructField('CallType', StringType(), True),\n",
        "                          StructField('CallDate', StringType(), True),\n",
        "                          StructField('WatchDate', StringType(), True),\n",
        "                          StructField('CallFinalDisposition', StringType(), True),\n",
        "                          StructField('AvailableDtTm', StringType(), True),\n",
        "                          StructField('Address', StringType(), True),\n",
        "                          StructField('City', StringType(), True),\n",
        "                          StructField('Zipcode', IntegerType(), True),\n",
        "                          StructField('Battalion', StringType(), True),\n",
        " StructField('StationArea', StringType(), True),\n",
        " StructField('Box', StringType(), True),\n",
        " StructField('OriginalPriority', StringType(), True),\n",
        " StructField('Priority', StringType(), True),\n",
        " StructField('FinalPriority', IntegerType(), True),\n",
        " StructField('ALSUnit', BooleanType(), True),\n",
        " StructField('CallTypeGroup', StringType(), True),\n",
        " StructField('NumAlarms', IntegerType(), True),\n",
        " StructField('UnitType', StringType(), True),\n",
        " StructField('UnitSequenceInCallDispatch', IntegerType(), True),\n",
        " StructField('FirePreventionDistrict', StringType(), True),\n",
        " StructField('SupervisorDistrict', StringType(), True),\n",
        " StructField('Neighborhood', StringType(), True),\n",
        " StructField('Location', StringType(), True),\n",
        " StructField('RowID', StringType(), True),\n",
        " StructField('Delay', FloatType(), True)])\n",
        "\n",
        "#Читаем датафрейм CSV из GitHub\n",
        "spark = SparkSession.builder.config('spark.ui.port', '4050').appName('Test').getOrCreate()\n",
        "str_file = \"/content/LearningSparkV2/databricks-datasets/learning-spark-v2/sf-fire/sf-fire-calls.csv\"\n",
        "fire_df = spark.read.csv(str_file, header = True, schema = file_schema)\n",
        "\n",
        "fire_df.show(5)\n",
        "fire_df.printSchema()"
      ],
      "metadata": {
        "colab": {
          "base_uri": "https://localhost:8080/"
        },
        "id": "GCVulZC7apTt",
        "outputId": "7ae5a895-91c6-46b1-e095-9c4e49870d60"
      },
      "execution_count": null,
      "outputs": [
        {
          "output_type": "stream",
          "name": "stdout",
          "text": [
            "+----------+------+---------------+----------------+----------+----------+--------------------+--------------------+--------------------+----+-------+---------+-----------+----+----------------+--------+-------------+-------+-------------+---------+--------+--------------------------+----------------------+------------------+--------------------+--------------------+-------------+---------+\n",
            "|CallNumber|UnitID|InciedentNumber|        CallType|  CallDate| WatchDate|CallFinalDisposition|       AvailableDtTm|             Address|City|Zipcode|Battalion|StationArea| Box|OriginalPriority|Priority|FinalPriority|ALSUnit|CallTypeGroup|NumAlarms|UnitType|UnitSequenceInCallDispatch|FirePreventionDistrict|SupervisorDistrict|        Neighborhood|            Location|        RowID|    Delay|\n",
            "+----------+------+---------------+----------------+----------+----------+--------------------+--------------------+--------------------+----+-------+---------+-----------+----+----------------+--------+-------------+-------+-------------+---------+--------+--------------------------+----------------------+------------------+--------------------+--------------------+-------------+---------+\n",
            "|  20110016|   T13|        2003235|  Structure Fire|01/11/2002|01/10/2002|               Other|01/11/2002 01:51:...|2000 Block of CAL...|  SF|  94109|      B04|         38|3362|               3|       3|            3|  false|         NULL|        1|   TRUCK|                         2|                     4|                 5|     Pacific Heights|(37.7895840679362...|020110016-T13|     2.95|\n",
            "|  20110022|   M17|        2003241|Medical Incident|01/11/2002|01/10/2002|               Other|01/11/2002 03:01:...|0 Block of SILVER...|  SF|  94124|      B10|         42|6495|               3|       3|            3|   true|         NULL|        1|   MEDIC|                         1|                    10|                10|Bayview Hunters P...|(37.7337623673897...|020110022-M17|      4.7|\n",
            "|  20110023|   M41|        2003242|Medical Incident|01/11/2002|01/10/2002|               Other|01/11/2002 02:39:...|MARKET ST/MCALLIS...|  SF|  94102|      B03|         01|1455|               3|       3|            3|   true|         NULL|        1|   MEDIC|                         2|                     3|                 6|          Tenderloin|(37.7811772186856...|020110023-M41|2.4333334|\n",
            "|  20110032|   E11|        2003250|    Vehicle Fire|01/11/2002|01/10/2002|               Other|01/11/2002 04:16:...|APPLETON AV/MISSI...|  SF|  94110|      B06|         32|5626|               3|       3|            3|  false|         NULL|        1|  ENGINE|                         1|                     6|                 9|      Bernal Heights|(37.7388432849018...|020110032-E11|      1.5|\n",
            "|  20110043|   B04|        2003259|          Alarms|01/11/2002|01/10/2002|               Other|01/11/2002 06:01:...|1400 Block of SUT...|  SF|  94109|      B04|         03|3223|               3|       3|            3|  false|         NULL|        1|   CHIEF|                         2|                     4|                 2|    Western Addition|(37.7872890372638...|020110043-B04|3.4833333|\n",
            "+----------+------+---------------+----------------+----------+----------+--------------------+--------------------+--------------------+----+-------+---------+-----------+----+----------------+--------+-------------+-------+-------------+---------+--------+--------------------------+----------------------+------------------+--------------------+--------------------+-------------+---------+\n",
            "only showing top 5 rows\n",
            "\n",
            "root\n",
            " |-- CallNumber: integer (nullable = true)\n",
            " |-- UnitID: string (nullable = true)\n",
            " |-- InciedentNumber: integer (nullable = true)\n",
            " |-- CallType: string (nullable = true)\n",
            " |-- CallDate: string (nullable = true)\n",
            " |-- WatchDate: string (nullable = true)\n",
            " |-- CallFinalDisposition: string (nullable = true)\n",
            " |-- AvailableDtTm: string (nullable = true)\n",
            " |-- Address: string (nullable = true)\n",
            " |-- City: string (nullable = true)\n",
            " |-- Zipcode: integer (nullable = true)\n",
            " |-- Battalion: string (nullable = true)\n",
            " |-- StationArea: string (nullable = true)\n",
            " |-- Box: string (nullable = true)\n",
            " |-- OriginalPriority: string (nullable = true)\n",
            " |-- Priority: string (nullable = true)\n",
            " |-- FinalPriority: integer (nullable = true)\n",
            " |-- ALSUnit: boolean (nullable = true)\n",
            " |-- CallTypeGroup: string (nullable = true)\n",
            " |-- NumAlarms: integer (nullable = true)\n",
            " |-- UnitType: string (nullable = true)\n",
            " |-- UnitSequenceInCallDispatch: integer (nullable = true)\n",
            " |-- FirePreventionDistrict: string (nullable = true)\n",
            " |-- SupervisorDistrict: string (nullable = true)\n",
            " |-- Neighborhood: string (nullable = true)\n",
            " |-- Location: string (nullable = true)\n",
            " |-- RowID: string (nullable = true)\n",
            " |-- Delay: float (nullable = true)\n",
            "\n"
          ]
        }
      ]
    },
    {
      "cell_type": "markdown",
      "source": [
        "## 5. Работа с строками\n",
        "\n",
        "Создать датафрейм из объекта Row"
      ],
      "metadata": {
        "id": "C7_Ub6csGWLy"
      }
    },
    {
      "cell_type": "code",
      "source": [
        "from pyspark.sql import Row\n",
        "\n",
        "#содержимое строки\n",
        "rows = [Row(\"Matei Zaharia\", \"CA\"), Row(\"Reynold Xin\", \"CA\")]\n",
        "author_row = spark.createDataFrame(rows, [\"Authors\",\"Region\"])\n",
        "author_row.show()"
      ],
      "metadata": {
        "colab": {
          "base_uri": "https://localhost:8080/",
          "height": 524
        },
        "id": "SNpQV0p_ERPC",
        "outputId": "5104ed4b-ecb2-40a0-bd4a-302c4d628134"
      },
      "execution_count": null,
      "outputs": [
        {
          "output_type": "stream",
          "name": "stderr",
          "text": [
            "ERROR:root:KeyboardInterrupt while sending command.\n",
            "Traceback (most recent call last):\n",
            "  File \"/usr/local/lib/python3.10/dist-packages/py4j/java_gateway.py\", line 1038, in send_command\n",
            "    response = connection.send_command(command)\n",
            "  File \"/usr/local/lib/python3.10/dist-packages/py4j/clientserver.py\", line 511, in send_command\n",
            "    answer = smart_decode(self.stream.readline()[:-1])\n",
            "  File \"/usr/lib/python3.10/socket.py\", line 705, in readinto\n",
            "    return self._sock.recv_into(b)\n",
            "KeyboardInterrupt\n"
          ]
        },
        {
          "output_type": "error",
          "ename": "KeyboardInterrupt",
          "evalue": "",
          "traceback": [
            "\u001b[0;31m---------------------------------------------------------------------------\u001b[0m",
            "\u001b[0;31mKeyboardInterrupt\u001b[0m                         Traceback (most recent call last)",
            "\u001b[0;32m<ipython-input-11-b36d8d07c152>\u001b[0m in \u001b[0;36m<cell line: 6>\u001b[0;34m()\u001b[0m\n\u001b[1;32m      4\u001b[0m \u001b[0mrows\u001b[0m \u001b[0;34m=\u001b[0m \u001b[0;34m[\u001b[0m\u001b[0mRow\u001b[0m\u001b[0;34m(\u001b[0m\u001b[0;34m\"Matei Zaharia\"\u001b[0m\u001b[0;34m,\u001b[0m \u001b[0;34m\"CA\"\u001b[0m\u001b[0;34m)\u001b[0m\u001b[0;34m,\u001b[0m \u001b[0mRow\u001b[0m\u001b[0;34m(\u001b[0m\u001b[0;34m\"Reynold Xin\"\u001b[0m\u001b[0;34m,\u001b[0m \u001b[0;34m\"CA\"\u001b[0m\u001b[0;34m)\u001b[0m\u001b[0;34m]\u001b[0m\u001b[0;34m\u001b[0m\u001b[0;34m\u001b[0m\u001b[0m\n\u001b[1;32m      5\u001b[0m \u001b[0mauthor_row\u001b[0m \u001b[0;34m=\u001b[0m \u001b[0mspark\u001b[0m\u001b[0;34m.\u001b[0m\u001b[0mcreateDataFrame\u001b[0m\u001b[0;34m(\u001b[0m\u001b[0mrows\u001b[0m\u001b[0;34m,\u001b[0m \u001b[0;34m[\u001b[0m\u001b[0;34m\"Authors\"\u001b[0m\u001b[0;34m,\u001b[0m\u001b[0;34m\"Region\"\u001b[0m\u001b[0;34m]\u001b[0m\u001b[0;34m)\u001b[0m\u001b[0;34m\u001b[0m\u001b[0;34m\u001b[0m\u001b[0m\n\u001b[0;32m----> 6\u001b[0;31m \u001b[0mauthor_row\u001b[0m\u001b[0;34m.\u001b[0m\u001b[0mshow\u001b[0m\u001b[0;34m(\u001b[0m\u001b[0;34m)\u001b[0m\u001b[0;34m\u001b[0m\u001b[0;34m\u001b[0m\u001b[0m\n\u001b[0m",
            "\u001b[0;32m/usr/local/lib/python3.10/dist-packages/pyspark/sql/dataframe.py\u001b[0m in \u001b[0;36mshow\u001b[0;34m(self, n, truncate, vertical)\u001b[0m\n\u001b[1;32m    945\u001b[0m         \u001b[0mname\u001b[0m \u001b[0;34m|\u001b[0m \u001b[0mBob\u001b[0m\u001b[0;34m\u001b[0m\u001b[0;34m\u001b[0m\u001b[0m\n\u001b[1;32m    946\u001b[0m         \"\"\"\n\u001b[0;32m--> 947\u001b[0;31m         \u001b[0mprint\u001b[0m\u001b[0;34m(\u001b[0m\u001b[0mself\u001b[0m\u001b[0;34m.\u001b[0m\u001b[0m_show_string\u001b[0m\u001b[0;34m(\u001b[0m\u001b[0mn\u001b[0m\u001b[0;34m,\u001b[0m \u001b[0mtruncate\u001b[0m\u001b[0;34m,\u001b[0m \u001b[0mvertical\u001b[0m\u001b[0;34m)\u001b[0m\u001b[0;34m)\u001b[0m\u001b[0;34m\u001b[0m\u001b[0;34m\u001b[0m\u001b[0m\n\u001b[0m\u001b[1;32m    948\u001b[0m \u001b[0;34m\u001b[0m\u001b[0m\n\u001b[1;32m    949\u001b[0m     def _show_string(\n",
            "\u001b[0;32m/usr/local/lib/python3.10/dist-packages/pyspark/sql/dataframe.py\u001b[0m in \u001b[0;36m_show_string\u001b[0;34m(self, n, truncate, vertical)\u001b[0m\n\u001b[1;32m    963\u001b[0m \u001b[0;34m\u001b[0m\u001b[0m\n\u001b[1;32m    964\u001b[0m         \u001b[0;32mif\u001b[0m \u001b[0misinstance\u001b[0m\u001b[0;34m(\u001b[0m\u001b[0mtruncate\u001b[0m\u001b[0;34m,\u001b[0m \u001b[0mbool\u001b[0m\u001b[0;34m)\u001b[0m \u001b[0;32mand\u001b[0m \u001b[0mtruncate\u001b[0m\u001b[0;34m:\u001b[0m\u001b[0;34m\u001b[0m\u001b[0;34m\u001b[0m\u001b[0m\n\u001b[0;32m--> 965\u001b[0;31m             \u001b[0;32mreturn\u001b[0m \u001b[0mself\u001b[0m\u001b[0;34m.\u001b[0m\u001b[0m_jdf\u001b[0m\u001b[0;34m.\u001b[0m\u001b[0mshowString\u001b[0m\u001b[0;34m(\u001b[0m\u001b[0mn\u001b[0m\u001b[0;34m,\u001b[0m \u001b[0;36m20\u001b[0m\u001b[0;34m,\u001b[0m \u001b[0mvertical\u001b[0m\u001b[0;34m)\u001b[0m\u001b[0;34m\u001b[0m\u001b[0;34m\u001b[0m\u001b[0m\n\u001b[0m\u001b[1;32m    966\u001b[0m         \u001b[0;32melse\u001b[0m\u001b[0;34m:\u001b[0m\u001b[0;34m\u001b[0m\u001b[0;34m\u001b[0m\u001b[0m\n\u001b[1;32m    967\u001b[0m             \u001b[0;32mtry\u001b[0m\u001b[0;34m:\u001b[0m\u001b[0;34m\u001b[0m\u001b[0;34m\u001b[0m\u001b[0m\n",
            "\u001b[0;32m/usr/local/lib/python3.10/dist-packages/py4j/java_gateway.py\u001b[0m in \u001b[0;36m__call__\u001b[0;34m(self, *args)\u001b[0m\n\u001b[1;32m   1319\u001b[0m             \u001b[0mproto\u001b[0m\u001b[0;34m.\u001b[0m\u001b[0mEND_COMMAND_PART\u001b[0m\u001b[0;34m\u001b[0m\u001b[0;34m\u001b[0m\u001b[0m\n\u001b[1;32m   1320\u001b[0m \u001b[0;34m\u001b[0m\u001b[0m\n\u001b[0;32m-> 1321\u001b[0;31m         \u001b[0manswer\u001b[0m \u001b[0;34m=\u001b[0m \u001b[0mself\u001b[0m\u001b[0;34m.\u001b[0m\u001b[0mgateway_client\u001b[0m\u001b[0;34m.\u001b[0m\u001b[0msend_command\u001b[0m\u001b[0;34m(\u001b[0m\u001b[0mcommand\u001b[0m\u001b[0;34m)\u001b[0m\u001b[0;34m\u001b[0m\u001b[0;34m\u001b[0m\u001b[0m\n\u001b[0m\u001b[1;32m   1322\u001b[0m         return_value = get_return_value(\n\u001b[1;32m   1323\u001b[0m             answer, self.gateway_client, self.target_id, self.name)\n",
            "\u001b[0;32m/usr/local/lib/python3.10/dist-packages/py4j/java_gateway.py\u001b[0m in \u001b[0;36msend_command\u001b[0;34m(self, command, retry, binary)\u001b[0m\n\u001b[1;32m   1036\u001b[0m         \u001b[0mconnection\u001b[0m \u001b[0;34m=\u001b[0m \u001b[0mself\u001b[0m\u001b[0;34m.\u001b[0m\u001b[0m_get_connection\u001b[0m\u001b[0;34m(\u001b[0m\u001b[0;34m)\u001b[0m\u001b[0;34m\u001b[0m\u001b[0;34m\u001b[0m\u001b[0m\n\u001b[1;32m   1037\u001b[0m         \u001b[0;32mtry\u001b[0m\u001b[0;34m:\u001b[0m\u001b[0;34m\u001b[0m\u001b[0;34m\u001b[0m\u001b[0m\n\u001b[0;32m-> 1038\u001b[0;31m             \u001b[0mresponse\u001b[0m \u001b[0;34m=\u001b[0m \u001b[0mconnection\u001b[0m\u001b[0;34m.\u001b[0m\u001b[0msend_command\u001b[0m\u001b[0;34m(\u001b[0m\u001b[0mcommand\u001b[0m\u001b[0;34m)\u001b[0m\u001b[0;34m\u001b[0m\u001b[0;34m\u001b[0m\u001b[0m\n\u001b[0m\u001b[1;32m   1039\u001b[0m             \u001b[0;32mif\u001b[0m \u001b[0mbinary\u001b[0m\u001b[0;34m:\u001b[0m\u001b[0;34m\u001b[0m\u001b[0;34m\u001b[0m\u001b[0m\n\u001b[1;32m   1040\u001b[0m                 \u001b[0;32mreturn\u001b[0m \u001b[0mresponse\u001b[0m\u001b[0;34m,\u001b[0m \u001b[0mself\u001b[0m\u001b[0;34m.\u001b[0m\u001b[0m_create_connection_guard\u001b[0m\u001b[0;34m(\u001b[0m\u001b[0mconnection\u001b[0m\u001b[0;34m)\u001b[0m\u001b[0;34m\u001b[0m\u001b[0;34m\u001b[0m\u001b[0m\n",
            "\u001b[0;32m/usr/local/lib/python3.10/dist-packages/py4j/clientserver.py\u001b[0m in \u001b[0;36msend_command\u001b[0;34m(self, command)\u001b[0m\n\u001b[1;32m    509\u001b[0m         \u001b[0;32mtry\u001b[0m\u001b[0;34m:\u001b[0m\u001b[0;34m\u001b[0m\u001b[0;34m\u001b[0m\u001b[0m\n\u001b[1;32m    510\u001b[0m             \u001b[0;32mwhile\u001b[0m \u001b[0;32mTrue\u001b[0m\u001b[0;34m:\u001b[0m\u001b[0;34m\u001b[0m\u001b[0;34m\u001b[0m\u001b[0m\n\u001b[0;32m--> 511\u001b[0;31m                 \u001b[0manswer\u001b[0m \u001b[0;34m=\u001b[0m \u001b[0msmart_decode\u001b[0m\u001b[0;34m(\u001b[0m\u001b[0mself\u001b[0m\u001b[0;34m.\u001b[0m\u001b[0mstream\u001b[0m\u001b[0;34m.\u001b[0m\u001b[0mreadline\u001b[0m\u001b[0;34m(\u001b[0m\u001b[0;34m)\u001b[0m\u001b[0;34m[\u001b[0m\u001b[0;34m:\u001b[0m\u001b[0;34m-\u001b[0m\u001b[0;36m1\u001b[0m\u001b[0;34m]\u001b[0m\u001b[0;34m)\u001b[0m\u001b[0;34m\u001b[0m\u001b[0;34m\u001b[0m\u001b[0m\n\u001b[0m\u001b[1;32m    512\u001b[0m                 \u001b[0mlogger\u001b[0m\u001b[0;34m.\u001b[0m\u001b[0mdebug\u001b[0m\u001b[0;34m(\u001b[0m\u001b[0;34m\"Answer received: {0}\"\u001b[0m\u001b[0;34m.\u001b[0m\u001b[0mformat\u001b[0m\u001b[0;34m(\u001b[0m\u001b[0manswer\u001b[0m\u001b[0;34m)\u001b[0m\u001b[0;34m)\u001b[0m\u001b[0;34m\u001b[0m\u001b[0;34m\u001b[0m\u001b[0m\n\u001b[1;32m    513\u001b[0m                 \u001b[0;31m# Happens when a the other end is dead. There might be an empty\u001b[0m\u001b[0;34m\u001b[0m\u001b[0;34m\u001b[0m\u001b[0m\n",
            "\u001b[0;32m/usr/lib/python3.10/socket.py\u001b[0m in \u001b[0;36mreadinto\u001b[0;34m(self, b)\u001b[0m\n\u001b[1;32m    703\u001b[0m         \u001b[0;32mwhile\u001b[0m \u001b[0;32mTrue\u001b[0m\u001b[0;34m:\u001b[0m\u001b[0;34m\u001b[0m\u001b[0;34m\u001b[0m\u001b[0m\n\u001b[1;32m    704\u001b[0m             \u001b[0;32mtry\u001b[0m\u001b[0;34m:\u001b[0m\u001b[0;34m\u001b[0m\u001b[0;34m\u001b[0m\u001b[0m\n\u001b[0;32m--> 705\u001b[0;31m                 \u001b[0;32mreturn\u001b[0m \u001b[0mself\u001b[0m\u001b[0;34m.\u001b[0m\u001b[0m_sock\u001b[0m\u001b[0;34m.\u001b[0m\u001b[0mrecv_into\u001b[0m\u001b[0;34m(\u001b[0m\u001b[0mb\u001b[0m\u001b[0;34m)\u001b[0m\u001b[0;34m\u001b[0m\u001b[0;34m\u001b[0m\u001b[0m\n\u001b[0m\u001b[1;32m    706\u001b[0m             \u001b[0;32mexcept\u001b[0m \u001b[0mtimeout\u001b[0m\u001b[0;34m:\u001b[0m\u001b[0;34m\u001b[0m\u001b[0;34m\u001b[0m\u001b[0m\n\u001b[1;32m    707\u001b[0m                 \u001b[0mself\u001b[0m\u001b[0;34m.\u001b[0m\u001b[0m_timeout_occurred\u001b[0m \u001b[0;34m=\u001b[0m \u001b[0;32mTrue\u001b[0m\u001b[0;34m\u001b[0m\u001b[0;34m\u001b[0m\u001b[0m\n",
            "\u001b[0;31mKeyboardInterrupt\u001b[0m: "
          ]
        }
      ]
    },
    {
      "cell_type": "code",
      "source": [
        "cd /content/"
      ],
      "metadata": {
        "id": "3c89Ky6lPws_"
      },
      "execution_count": null,
      "outputs": []
    },
    {
      "cell_type": "markdown",
      "source": [
        "## 6. Поиск не пустых значений\n",
        "\n",
        "Нужно посмотреть причины вызовов пожарных частей - значения должны быть не Null.\n",
        "\n",
        "Для выпонения надо выполнить [4.2](#4.2)  \n",
        "\n"
      ],
      "metadata": {
        "id": "8Ov24g2eMIa_"
      }
    },
    {
      "cell_type": "code",
      "source": [
        "#Читаем датафрейм CSV из GitHub\n",
        "from pyspark.sql import SparkSession\n",
        "\n",
        "fire_df.select(F.col(\"CallType\"))\\\n",
        "       .filter(F.col(\"CallType\").isNotNull())\\\n",
        "       .groupBy(F.col(\"CallType\"))\\\n",
        "       .agg(F.count('CallType').alias('Count'))\\\n",
        "       .orderBy(F.col(\"Count\").desc())\\\n",
        "       .show(100,False)"
      ],
      "metadata": {
        "colab": {
          "base_uri": "https://localhost:8080/"
        },
        "id": "uPxovH6dPzos",
        "outputId": "23c946c2-a086-42ad-9178-19347b2fbd26"
      },
      "execution_count": null,
      "outputs": [
        {
          "output_type": "stream",
          "name": "stdout",
          "text": [
            "+--------------------------------------------+------+\n",
            "|CallType                                    |Count |\n",
            "+--------------------------------------------+------+\n",
            "|Medical Incident                            |113794|\n",
            "|Structure Fire                              |23319 |\n",
            "|Alarms                                      |19406 |\n",
            "|Traffic Collision                           |7013  |\n",
            "|Citizen Assist / Service Call               |2524  |\n",
            "|Other                                       |2166  |\n",
            "|Outside Fire                                |2094  |\n",
            "|Vehicle Fire                                |854   |\n",
            "|Gas Leak (Natural and LP Gases)             |764   |\n",
            "|Water Rescue                                |755   |\n",
            "|Odor (Strange / Unknown)                    |490   |\n",
            "|Electrical Hazard                           |482   |\n",
            "|Elevator / Escalator Rescue                 |453   |\n",
            "|Smoke Investigation (Outside)               |391   |\n",
            "|Fuel Spill                                  |193   |\n",
            "|HazMat                                      |124   |\n",
            "|Industrial Accidents                        |94    |\n",
            "|Explosion                                   |89    |\n",
            "|Train / Rail Incident                       |57    |\n",
            "|Aircraft Emergency                          |36    |\n",
            "|Assist Police                               |35    |\n",
            "|High Angle Rescue                           |32    |\n",
            "|Watercraft in Distress                      |28    |\n",
            "|Extrication / Entrapped (Machinery, Vehicle)|28    |\n",
            "|Oil Spill                                   |21    |\n",
            "|Suspicious Package                          |15    |\n",
            "|Marine Fire                                 |14    |\n",
            "|Confined Space / Structure Collapse         |13    |\n",
            "|Mutual Aid / Assist Outside Agency          |9     |\n",
            "|Administrative                              |3     |\n",
            "+--------------------------------------------+------+\n",
            "\n"
          ]
        }
      ]
    },
    {
      "cell_type": "markdown",
      "source": [
        "## 7. Замена столбцов и их удаление\n",
        "\n",
        "Дан датафрейм из Задачи [4.2](#4.2) необходимо изменить тип временных колонок для дальнейшей работы  с ними. Таже необходимо подготовить ответы на вопросы -\n",
        "* Посмотреть за какие года у были инциденты.\n",
        "* Какие виды пожара были в 2018 году.\n",
        "* В какие месяцы 2018 года было больше всего вызовов пожарных?\n",
        "* В каком районе Сан Франциско произошло больше всего звонков о пожаре в 2018?\n",
        "* В каких районах было худшее время реагирования пожарных в 2018 году?\n",
        "* На какой неделе 2018 года было больше всего вызовов пожарных?\n",
        "* Как использовать тип файлов Паркет, для хранения этих данных."
      ],
      "metadata": {
        "id": "eUdrQfVXfQdc"
      }
    },
    {
      "cell_type": "code",
      "source": [
        "#Задача У всех временных столбцов тип поля string\n",
        "fire_df.select('CallDate','WatchDate','AvailableDtTm').printSchema()\n",
        "\n",
        "#заменим типы и удалим старые колонки\n",
        "fire_df = (fire_df\n",
        "           .withColumn(\"IncidentDate\", F.to_timestamp(\"CallDate\", \"MM/dd/yyyy\"))\n",
        "           .drop(\"CallDate\")\n",
        "           .withColumn(\"OnWatchDate\", F.to_timestamp(\"WatchDate\",\"MM/dd/yyyy\"))\n",
        "           .drop(\"WatchDate\")\n",
        "           .withColumn(\"AvailableDtTS\", F.to_timestamp(\"AvailableDtTm\", \"MM/dd/yyyy hh:mm:ss a\"))\n",
        "           .drop(\"AvailableDtTm\"))\n",
        "\n",
        "#Проверка\n",
        "fire_df.printSchema()"
      ],
      "metadata": {
        "colab": {
          "base_uri": "https://localhost:8080/"
        },
        "id": "ZZPgl6WogWFE",
        "outputId": "04ea5a02-76f0-4d9f-f056-bb95af2e1616"
      },
      "execution_count": null,
      "outputs": [
        {
          "output_type": "stream",
          "name": "stdout",
          "text": [
            "root\n",
            " |-- CallDate: string (nullable = true)\n",
            " |-- WatchDate: string (nullable = true)\n",
            " |-- AvailableDtTm: string (nullable = true)\n",
            "\n",
            "root\n",
            " |-- CallNumber: integer (nullable = true)\n",
            " |-- UnitID: string (nullable = true)\n",
            " |-- InciedentNumber: integer (nullable = true)\n",
            " |-- CallType: string (nullable = true)\n",
            " |-- CallFinalDisposition: string (nullable = true)\n",
            " |-- Address: string (nullable = true)\n",
            " |-- City: string (nullable = true)\n",
            " |-- Zipcode: integer (nullable = true)\n",
            " |-- Battalion: string (nullable = true)\n",
            " |-- StationArea: string (nullable = true)\n",
            " |-- Box: string (nullable = true)\n",
            " |-- OriginalPriority: string (nullable = true)\n",
            " |-- Priority: string (nullable = true)\n",
            " |-- FinalPriority: integer (nullable = true)\n",
            " |-- ALSUnit: boolean (nullable = true)\n",
            " |-- CallTypeGroup: string (nullable = true)\n",
            " |-- NumAlarms: integer (nullable = true)\n",
            " |-- UnitType: string (nullable = true)\n",
            " |-- UnitSequenceInCallDispatch: integer (nullable = true)\n",
            " |-- FirePreventionDistrict: string (nullable = true)\n",
            " |-- SupervisorDistrict: string (nullable = true)\n",
            " |-- Neighborhood: string (nullable = true)\n",
            " |-- Location: string (nullable = true)\n",
            " |-- RowID: string (nullable = true)\n",
            " |-- Delay: float (nullable = true)\n",
            " |-- IncidentDate: timestamp (nullable = true)\n",
            " |-- OnWatchDate: timestamp (nullable = true)\n",
            " |-- AvailableDtTS: timestamp (nullable = true)\n",
            "\n"
          ]
        }
      ]
    },
    {
      "cell_type": "code",
      "source": [
        "#Задача 1 за какие года были инциденты\n",
        "fire_df.select(F.year('IncidentDate').alias('Year')).distinct().orderBy(F.year('IncidentDate')).show(100,False)"
      ],
      "metadata": {
        "colab": {
          "base_uri": "https://localhost:8080/"
        },
        "id": "EWgxaSMfMHWJ",
        "outputId": "9717c0f0-998b-4ddb-93d4-6a9a4824591b"
      },
      "execution_count": null,
      "outputs": [
        {
          "output_type": "stream",
          "name": "stdout",
          "text": [
            "+----+\n",
            "|Year|\n",
            "+----+\n",
            "|2000|\n",
            "|2001|\n",
            "|2002|\n",
            "|2003|\n",
            "|2004|\n",
            "|2005|\n",
            "|2006|\n",
            "|2007|\n",
            "|2008|\n",
            "|2009|\n",
            "|2010|\n",
            "|2011|\n",
            "|2012|\n",
            "|2013|\n",
            "|2014|\n",
            "|2015|\n",
            "|2016|\n",
            "|2017|\n",
            "|2018|\n",
            "+----+\n",
            "\n"
          ]
        }
      ]
    },
    {
      "cell_type": "code",
      "source": [
        "#Задача 2 какие виды пожаров были в 2018\n",
        "fire_df.select(F.col(\"CallType\"))\\\n",
        "       .filter(F.year('IncidentDate') == 2018)\\\n",
        "       .groupBy(F.col(\"CallType\"))\\\n",
        "       .agg(F.count('CallType').alias('Count'))\\\n",
        "       .orderBy(F.col(\"Count\").desc())\\\n",
        "       .show(100,False)"
      ],
      "metadata": {
        "colab": {
          "base_uri": "https://localhost:8080/"
        },
        "id": "EpLc6FUrOdmQ",
        "outputId": "2f1b094d-3db9-4366-f601-ffc57fa5ad93"
      },
      "execution_count": null,
      "outputs": [
        {
          "output_type": "stream",
          "name": "stdout",
          "text": [
            "+-------------------------------+-----+\n",
            "|CallType                       |Count|\n",
            "+-------------------------------+-----+\n",
            "|Medical Incident               |7004 |\n",
            "|Alarms                         |1144 |\n",
            "|Structure Fire                 |906  |\n",
            "|Traffic Collision              |433  |\n",
            "|Outside Fire                   |153  |\n",
            "|Other                          |114  |\n",
            "|Citizen Assist / Service Call  |113  |\n",
            "|Gas Leak (Natural and LP Gases)|69   |\n",
            "|Water Rescue                   |43   |\n",
            "|Elevator / Escalator Rescue    |36   |\n",
            "|Electrical Hazard              |30   |\n",
            "|Vehicle Fire                   |28   |\n",
            "|Smoke Investigation (Outside)  |28   |\n",
            "|Odor (Strange / Unknown)       |10   |\n",
            "|Fuel Spill                     |10   |\n",
            "|HazMat                         |5    |\n",
            "|Train / Rail Incident          |5    |\n",
            "|Suspicious Package             |3    |\n",
            "|Assist Police                  |1    |\n",
            "|Explosion                      |1    |\n",
            "+-------------------------------+-----+\n",
            "\n"
          ]
        }
      ]
    },
    {
      "cell_type": "code",
      "source": [
        "#Задача 3 в какие месяцы 2018 года было больше всего вызовов пожарных\n",
        "a = (fire_df.select(F.month(\"IncidentDate\").alias('MONTH'), F.year('IncidentDate').alias('year'))\n",
        "            .filter(F.year('IncidentDate') == 2018)\n",
        "            .groupBy('MONTH', 'year')\n",
        "            .agg(F.count('*').alias('count_calls'))\n",
        "            .orderBy(F.col('count_calls').desc())\n",
        "            .show(100,False))\n",
        "a"
      ],
      "metadata": {
        "colab": {
          "base_uri": "https://localhost:8080/"
        },
        "id": "RWSzGYrCR67U",
        "outputId": "392eaffa-049e-4a0c-c206-411b5f5829f3"
      },
      "execution_count": null,
      "outputs": [
        {
          "output_type": "stream",
          "name": "stdout",
          "text": [
            "+-----+----+-----------+\n",
            "|MONTH|year|count_calls|\n",
            "+-----+----+-----------+\n",
            "|10   |2018|1068       |\n",
            "|5    |2018|1047       |\n",
            "|3    |2018|1029       |\n",
            "|8    |2018|1021       |\n",
            "|1    |2018|1007       |\n",
            "|7    |2018|974        |\n",
            "|6    |2018|974        |\n",
            "|9    |2018|951        |\n",
            "|4    |2018|947        |\n",
            "|2    |2018|919        |\n",
            "|11   |2018|199        |\n",
            "+-----+----+-----------+\n",
            "\n"
          ]
        }
      ]
    },
    {
      "cell_type": "code",
      "source": [
        "#Задача 4 в каком районе Сан Франциско произошло больше всего звонков о пожаре в 2018?\n",
        "a = (fire_df\n",
        "           .select('Neighborhood', 'NumAlarms')\n",
        "           .where((F.col('City') == 'San Francisco') & (F.year('IncidentDate') == 2018))\n",
        "           .groupBy('Neighborhood')\n",
        "           .agg(F.sum('NumAlarms').alias('Count_calls'))\n",
        "           .orderBy(F.col('Count_calls').desc())\n",
        "           .show(1, False))\n",
        "a"
      ],
      "metadata": {
        "colab": {
          "base_uri": "https://localhost:8080/"
        },
        "id": "wGV6d4B-Yo7o",
        "outputId": "9f0dccc7-228d-40db-9fdc-69d27a1abdb7"
      },
      "execution_count": null,
      "outputs": [
        {
          "output_type": "stream",
          "name": "stdout",
          "text": [
            "+------------+-----------+\n",
            "|Neighborhood|Count_calls|\n",
            "+------------+-----------+\n",
            "|Tenderloin  |1393       |\n",
            "+------------+-----------+\n",
            "only showing top 1 row\n",
            "\n"
          ]
        }
      ]
    },
    {
      "cell_type": "code",
      "source": [
        "#Задание 5 в каких районах было худшее время реагирования пожарных в 2018 году?\n",
        "a = (fire_df\n",
        "           .select('City', 'Neighborhood', 'Delay')\n",
        "           .filter(F.year('IncidentDate') == 2018)\n",
        "           .orderBy(F.col('Delay').desc())\n",
        "           .show(5, False))"
      ],
      "metadata": {
        "colab": {
          "base_uri": "https://localhost:8080/"
        },
        "id": "g8GNjpoBNA4t",
        "outputId": "dd2c1739-3a28-4411-fe07-4293d709ad3a"
      },
      "execution_count": null,
      "outputs": [
        {
          "output_type": "stream",
          "name": "stdout",
          "text": [
            "+-------------+------------------------------+---------+\n",
            "|City         |Neighborhood                  |Delay    |\n",
            "+-------------+------------------------------+---------+\n",
            "|San Francisco|Chinatown                     |491.26666|\n",
            "|San Francisco|Financial District/South Beach|406.63333|\n",
            "|San Francisco|Tenderloin                    |340.48334|\n",
            "|San Francisco|Haight Ashbury                |175.86667|\n",
            "|San Francisco|Bayview Hunters Point         |155.8    |\n",
            "+-------------+------------------------------+---------+\n",
            "only showing top 5 rows\n",
            "\n"
          ]
        }
      ]
    },
    {
      "cell_type": "code",
      "source": [
        "#Задание 6 на какой неделе 2018 года было больше всего вызовов пожарных?\n",
        "a = (fire_df\n",
        "           .select('IncidentDate', 'NumAlarms')\n",
        "           .filter(F.year('IncidentDate') == 2018)\n",
        "           .groupBy(F.weekofyear('IncidentDate'))\n",
        "           .agg(F.sum('NumAlarms').alias('sums'))\n",
        "           .orderBy(F.col('sums').desc())\n",
        "           .show(5, False))"
      ],
      "metadata": {
        "colab": {
          "base_uri": "https://localhost:8080/"
        },
        "id": "jUzLk1GAQsaW",
        "outputId": "20b721f0-cdd0-4c4d-8795-eabf57c9ec36"
      },
      "execution_count": null,
      "outputs": [
        {
          "output_type": "stream",
          "name": "stdout",
          "text": [
            "+------------------------+----+\n",
            "|weekofyear(IncidentDate)|sums|\n",
            "+------------------------+----+\n",
            "|22                      |259 |\n",
            "|40                      |255 |\n",
            "|43                      |252 |\n",
            "|25                      |250 |\n",
            "|1                       |246 |\n",
            "+------------------------+----+\n",
            "only showing top 5 rows\n",
            "\n"
          ]
        }
      ]
    },
    {
      "cell_type": "code",
      "source": [
        "#Задание 7 как использовать тип файлов Паркет, для хранения этих данных.\n",
        "fire_df.write.format('parquet').save('/content/sample_data/qwe')"
      ],
      "metadata": {
        "id": "AevZf_bWVyp7"
      },
      "execution_count": null,
      "outputs": []
    },
    {
      "cell_type": "code",
      "source": [],
      "metadata": {
        "id": "v015VjLtdSov"
      },
      "execution_count": null,
      "outputs": []
    }
  ]
}